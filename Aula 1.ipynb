{
 "cells": [
  {
   "cell_type": "code",
   "execution_count": 5,
   "metadata": {},
   "outputs": [
    {
     "name": "stdout",
     "output_type": "stream",
     "text": [
      "Note: you may need to restart the kernel to use updated packages.\n",
      "Requirement already satisfied: sympy in c:\\python311\\lib\\site-packages (1.12)\n",
      "Requirement already satisfied: mpmath>=0.19 in c:\\python311\\lib\\site-packages (from sympy) (1.3.0)\n"
     ]
    },
    {
     "name": "stderr",
     "output_type": "stream",
     "text": [
      "\n",
      "[notice] A new release of pip is available: 23.1.2 -> 23.2.1\n",
      "[notice] To update, run: python.exe -m pip install --upgrade pip\n"
     ]
    }
   ],
   "source": [
    "pip install sympy\n"
   ]
  },
  {
   "cell_type": "code",
   "execution_count": 7,
   "metadata": {},
   "outputs": [],
   "source": [
    "from sympy import *"
   ]
  },
  {
   "attachments": {},
   "cell_type": "markdown",
   "metadata": {},
   "source": [
    "# Equações"
   ]
  },
  {
   "cell_type": "code",
   "execution_count": 8,
   "metadata": {},
   "outputs": [],
   "source": [
    "x = Symbol('x')"
   ]
  },
  {
   "cell_type": "code",
   "execution_count": 9,
   "metadata": {},
   "outputs": [
    {
     "data": {
      "text/latex": [
       "$\\displaystyle 2 x + 10$"
      ],
      "text/plain": [
       "2*x + 10"
      ]
     },
     "execution_count": 9,
     "metadata": {},
     "output_type": "execute_result"
    }
   ],
   "source": [
    "2 * x + 10"
   ]
  },
  {
   "cell_type": "code",
   "execution_count": 10,
   "metadata": {},
   "outputs": [
    {
     "data": {
      "text/latex": [
       "$\\displaystyle 2 x^{2} + 10 x - 5$"
      ],
      "text/plain": [
       "2*x**2 + 10*x - 5"
      ]
     },
     "execution_count": 10,
     "metadata": {},
     "output_type": "execute_result"
    }
   ],
   "source": [
    "2 * x**2 + 10 * x - 5"
   ]
  },
  {
   "attachments": {},
   "cell_type": "markdown",
   "metadata": {},
   "source": [
    " # Derivadas"
   ]
  },
  {
   "cell_type": "code",
   "execution_count": 11,
   "metadata": {},
   "outputs": [
    {
     "data": {
      "text/latex": [
       "$\\displaystyle 10 x^{3} - 20 x + 50$"
      ],
      "text/plain": [
       "10*x**3 - 20*x + 50"
      ]
     },
     "execution_count": 11,
     "metadata": {},
     "output_type": "execute_result"
    }
   ],
   "source": [
    "10 * x**3 - 20 * x + 50"
   ]
  },
  {
   "cell_type": "code",
   "execution_count": 12,
   "metadata": {},
   "outputs": [
    {
     "data": {
      "text/latex": [
       "$\\displaystyle 30 x^{2} - 20$"
      ],
      "text/plain": [
       "30*x**2 - 20"
      ]
     },
     "execution_count": 12,
     "metadata": {},
     "output_type": "execute_result"
    }
   ],
   "source": [
    "(10 * x**3 - 20 * x + 50).diff(x)"
   ]
  },
  {
   "cell_type": "code",
   "execution_count": 13,
   "metadata": {},
   "outputs": [
    {
     "data": {
      "text/latex": [
       "$\\displaystyle \\frac{d}{d x} \\left(10 x^{3} - 20 x + 50\\right)$"
      ],
      "text/plain": [
       "Derivative(10*x**3 - 20*x + 50, x)"
      ]
     },
     "execution_count": 13,
     "metadata": {},
     "output_type": "execute_result"
    }
   ],
   "source": [
    "Derivative(10 * x**3 - 20 * x + 50)"
   ]
  },
  {
   "cell_type": "code",
   "execution_count": 15,
   "metadata": {},
   "outputs": [
    {
     "data": {
      "text/latex": [
       "$\\displaystyle 30 x^{2} - 20$"
      ],
      "text/plain": [
       "30*x**2 - 20"
      ]
     },
     "execution_count": 15,
     "metadata": {},
     "output_type": "execute_result"
    }
   ],
   "source": [
    "Derivative(10 * x**3 - 20 * x + 50).doit()"
   ]
  },
  {
   "cell_type": "code",
   "execution_count": 18,
   "metadata": {},
   "outputs": [
    {
     "data": {
      "text/latex": [
       "$\\displaystyle \\int \\left(x^{2} + \\sin{\\left(x \\right)}\\right)\\, dx$"
      ],
      "text/plain": [
       "Integral(x**2 + sin(x), x)"
      ]
     },
     "execution_count": 18,
     "metadata": {},
     "output_type": "execute_result"
    }
   ],
   "source": [
    "Integral(x**2 + sin(x))"
   ]
  },
  {
   "attachments": {},
   "cell_type": "markdown",
   "metadata": {},
   "source": [
    "# Escrever Algoritimo para problema de media de notas de um determinado aluno"
   ]
  },
  {
   "cell_type": "code",
   "execution_count": 20,
   "metadata": {},
   "outputs": [
    {
     "data": {
      "text/plain": [
       "7.333333333333333"
      ]
     },
     "execution_count": 20,
     "metadata": {},
     "output_type": "execute_result"
    }
   ],
   "source": [
    "nota1 = 10\n",
    "nota2 = 7\n",
    "nota3 = 5\n",
    "\n",
    "media = (nota1 + nota2 + nota3)/3\n",
    "media"
   ]
  },
  {
   "cell_type": "code",
   "execution_count": 23,
   "metadata": {},
   "outputs": [
    {
     "name": "stdout",
     "output_type": "stream",
     "text": [
      "A média desse aluno é: 7.333333333333333\n"
     ]
    }
   ],
   "source": [
    "nota1 = float(input(\"Digite a primeira nota: \"))\n",
    "nota2 = float(input(\"Digite a segunda nota: \"))\n",
    "nota3 = float(input(\"Digite a terceira nota: \"))\n",
    "\n",
    "media = (nota1 + nota2 + nota3)/3\n",
    "print(\"A média desse aluno é:\", media)"
   ]
  },
  {
   "cell_type": "code",
   "execution_count": 26,
   "metadata": {},
   "outputs": [
    {
     "name": "stdout",
     "output_type": "stream",
     "text": [
      "A média é:  7.333333333333333\n",
      "Aluno Aprovado\n"
     ]
    }
   ],
   "source": [
    "#Problema 1 - Fazer Média das notas\n",
    "\n",
    "nota1 = float(input(\"Digite a primeira nota: \"))\n",
    "nota2 = float(input(\"Digite a segunda nota: \"))\n",
    "nota3 = float(input(\"Digite a terceira nota: \"))\n",
    "\n",
    "media = (nota1 + nota2 + nota3)/3\n",
    "print(\"A média é: \", media)\n",
    "\n",
    "if media >= 7:\n",
    "    print(\"Aluno Aprovado\")\n",
    "else: \n",
    "    print(\"Aluno Reprovado\")"
   ]
  },
  {
   "cell_type": "code",
   "execution_count": 29,
   "metadata": {},
   "outputs": [
    {
     "name": "stdout",
     "output_type": "stream",
     "text": [
      "Valores são iguais\n"
     ]
    }
   ],
   "source": [
    "#Problema 2 - Comparar A e B\n",
    "\n",
    "valor_a = float(input(\"Digite o valor de A:\"))\n",
    "valor_b = float(input(\"Digite o valor de B:\"))\n",
    "\n",
    "if valor_a > valor_b:\n",
    "    print(\"Valor A maior do que Valor B\", valor_a)\n",
    "elif valor_a == valor_b:\n",
    "    print(\"Valores são iguais\")\n",
    "else:\n",
    "    print(\"Valor B maior do que Valor A\", valor_b)"
   ]
  },
  {
   "cell_type": "code",
   "execution_count": 48,
   "metadata": {},
   "outputs": [
    {
     "name": "stdout",
     "output_type": "stream",
     "text": [
      "Area menor do que a desejada\n",
      "O valor da area do circulo é:  12.566\n"
     ]
    }
   ],
   "source": [
    "#Problema 3 - Área de um Circulo\n",
    "\n",
    "#Definição das variáveis\n",
    "\n",
    "pi= 3.1415\n",
    "raio = float(input(\"Digite o valor do raio\"))\n",
    "\n",
    "#Calculo da area\n",
    "\n",
    "area_circulo = pi * raio**2\n",
    "\n",
    "#Criar condição para mostrar que a area é menor que a desejada\n",
    "#area > 100 - ok\n",
    "#area < 100 - nao interessa\n",
    "\n",
    "if area_circulo > 100:\n",
    "   print(\"Area é desejada\")\n",
    "else:\n",
    "   print(\"Area menor do que a desejada\")\n",
    "\n",
    "\n",
    "#Exibir Resultado\n",
    "\n",
    "print(\"O valor da area do circulo é: \", area_circulo)\n"
   ]
  },
  {
   "cell_type": "code",
   "execution_count": 53,
   "metadata": {},
   "outputs": [
    {
     "name": "stdout",
     "output_type": "stream",
     "text": [
      "invalido\n"
     ]
    }
   ],
   "source": [
    "#Problema 4 - Ler o sexo de uma pessoa (m,f) e imprimir uma mensagem informando se é homem ou se é mulher\n",
    "\n",
    "sexo = str(input(\"Insira seu sexo\"))\n",
    "\n",
    "M = ['M']\n",
    "m = ['m']\n",
    "F = ['F']\n",
    "f = ['f']\n",
    "\n",
    "if (sexo in M) or (sexo in m):\n",
    "    print(\"sexo masculino\")\n",
    "elif (sexo in F) or (sexo in f):\n",
    "    print(\"sexo feminino\")\n",
    "else:\n",
    "    print(\"invalido\")"
   ]
  }
 ],
 "metadata": {
  "kernelspec": {
   "display_name": "Python 3",
   "language": "python",
   "name": "python3"
  },
  "language_info": {
   "codemirror_mode": {
    "name": "ipython",
    "version": 3
   },
   "file_extension": ".py",
   "mimetype": "text/x-python",
   "name": "python",
   "nbconvert_exporter": "python",
   "pygments_lexer": "ipython3",
   "version": "3.11.4"
  },
  "orig_nbformat": 4
 },
 "nbformat": 4,
 "nbformat_minor": 2
}

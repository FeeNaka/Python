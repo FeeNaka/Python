{
 "cells": [
  {
   "cell_type": "markdown",
   "metadata": {},
   "source": []
  },
  {
   "cell_type": "code",
   "execution_count": null,
   "metadata": {},
   "outputs": [],
   "source": [
    "#Expressões Lógicas Ex 1:\n",
    "\n",
    "salario = float(input(\"Insira o valor do seu salario:\"))\n",
    "\n",
    "if salario > 1200.00:\n",
    "    print(\"Voce deve pagar imposto\")\n",
    "\n",
    "else:\n",
    "    print(\"Voce nao deve pagar imposto\")"
   ]
  },
  {
   "cell_type": "code",
   "execution_count": null,
   "metadata": {},
   "outputs": [],
   "source": [
    "#Expressões Lógicas Ex 2:\n",
    "\n",
    "materia1 = float(input(\"Insira nota da materia 1: \"))\n",
    "materia2 = float(input(\"Insira nota da materia 2: \"))\n",
    "materia3 = float(input(\"Insira nota da materia 3: \"))\n",
    "\n",
    "\n",
    "if materia1 > 7 and materia2 > 7 and materia3 > 7:\n",
    "    print(\"Aluno aprovado\" )\n",
    "\n",
    "else:\n",
    "    print(\"Aluno reprovado\")"
   ]
  },
  {
   "cell_type": "code",
   "execution_count": null,
   "metadata": {},
   "outputs": [],
   "source": [
    "# Exercicio Casa 1:\n",
    "\n",
    "valor = int(input(\"Coloque valor em metros:\"))\n",
    "\n",
    "print(valor * pow(10,3), \"milimetros\")"
   ]
  },
  {
   "cell_type": "code",
   "execution_count": null,
   "metadata": {},
   "outputs": [],
   "source": [
    "# Exercicio Casa 2:\n",
    "\n",
    "tempod = int(input(\"Quantos dias?\"))\n",
    "tempoh = int(input(\"Quantas horas?\"))\n",
    "tempom = int(input(\"Quantos minutos?\"))\n",
    "tempos = int(input(\"Quantos segundos?\"))\n",
    "\n",
    "totals = (tempod * 24 * 60 * 60) + (tempoh * 60 * 60) + (tempom * 60) + (tempos)\n",
    "\n",
    "print(totals, \"segundos\")"
   ]
  },
  {
   "cell_type": "code",
   "execution_count": null,
   "metadata": {},
   "outputs": [],
   "source": [
    "# Exercicio Casa 3:\n",
    "\n",
    "mercadoria = int(input(\"Qual o valor da mercadoria?\"))\n",
    "desconto = int(input(\"Qual o valor do desconto em porcentagem?\"))\n",
    "\n",
    "valor_desconto = int(mercadoria * (desconto / 100))\n",
    "preço = int(mercadoria - valor_desconto)\n",
    "print(\"O valor do desconto é:\", valor_desconto, \"Reais\" )\n",
    "print(\"O preço a se pagar é de:\", preço, \"Reais\")"
   ]
  },
  {
   "cell_type": "code",
   "execution_count": null,
   "metadata": {},
   "outputs": [],
   "source": [
    "# Exercicio Casa 4:\n",
    "\n",
    "distancia = float(input(\"Qual a distancia a ser percorrida em kilometros?\"))\n",
    "velocidade = float(input(\"Qual a velocidade media em km/h durante a viagem?\"))\n",
    "\n",
    "tempov = int(distancia / velocidade)\n",
    "print(\"A viagem levará\", tempov, \"horas\")"
   ]
  },
  {
   "cell_type": "code",
   "execution_count": null,
   "metadata": {},
   "outputs": [],
   "source": [
    "# Exercicio Casa 5:\n",
    "\n",
    "tempC = int(input(\"Qual a temperatura em °C?\"))\n",
    "\n",
    "tempF = ((9 * tempC) / 5) + 32\n",
    "print(tempF, \"Farenheit\") "
   ]
  },
  {
   "cell_type": "code",
   "execution_count": 23,
   "metadata": {},
   "outputs": [
    {
     "name": "stdout",
     "output_type": "stream",
     "text": [
      "Valor por distancia percorrida: 11.55 Reais\n",
      "Valor por dias alugados 180 Reais\n",
      "Valor total a ser pago: 191.55 Reais\n"
     ]
    }
   ],
   "source": [
    "# Exercicio Casa 6:\n",
    "\n",
    "dist = float(input(\"Qual a distancia percorrida em km?\"))\n",
    "dias = int(input(\"Por quantos dias o carro foi alugado?\"))\n",
    "\n",
    "preçoDist = float(dist * 0.15)\n",
    "pDarredondado = round(preçoDist, 2)\n",
    "print(\"Valor por distancia percorrida:\", pDarredondado, \"Reais\")\n",
    "\n",
    "preçoDias = int(dias * 60)\n",
    "print(\"Valor por dias alugados\", preçoDias, \"Reais\")\n",
    "\n",
    "preçoT = preçoDist + preçoDias\n",
    "print(\"Valor total a ser pago:\", preçoT, \"Reais\")"
   ]
  }
 ],
 "metadata": {
  "kernelspec": {
   "display_name": "Python 3",
   "language": "python",
   "name": "python3"
  },
  "language_info": {
   "codemirror_mode": {
    "name": "ipython",
    "version": 3
   },
   "file_extension": ".py",
   "mimetype": "text/x-python",
   "name": "python",
   "nbconvert_exporter": "python",
   "pygments_lexer": "ipython3",
   "version": "3.11.5"
  },
  "orig_nbformat": 4
 },
 "nbformat": 4,
 "nbformat_minor": 2
}

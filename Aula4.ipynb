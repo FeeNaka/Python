{
 "cells": [
  {
   "attachments": {},
   "cell_type": "markdown",
   "metadata": {},
   "source": [
    "Estrutura com If"
   ]
  },
  {
   "cell_type": "code",
   "execution_count": null,
   "metadata": {},
   "outputs": [],
   "source": [
    "cobertura_requisitada = ['frango', 'peperoni', 'queijo']\n",
    "\n",
    "#Desse jeito todas as opções aparecem\n",
    "if 'frango' in cobertura_requisitada:\n",
    "    print(\"Adicione frango\")\n",
    "if 'peperoni' in cobertura_requisitada:\n",
    "    print(\"Adicione peperoni\")\n",
    "if 'queijo' in cobertura_requisitada:\n",
    "    print(\"Adicione queijo extra\")\n"
   ]
  },
  {
   "cell_type": "code",
   "execution_count": null,
   "metadata": {},
   "outputs": [],
   "source": [
    "cobertura_requisitada = ['frango', 'peperoni', 'queijo_extra']\n",
    "\n",
    "#Desse jeito ele checa o primeiro, nao foi, checa o segundo, e assim vai\n",
    "if 'frango' in cobertura_requisitada:\n",
    "    print(\"Adicione frango\")\n",
    "elif 'peperoni' in cobertura_requisitada:\n",
    "    print(\"Adicione peperoni\")\n",
    "else:\n",
    "    print(\"Escolha outra cobertura\")"
   ]
  },
  {
   "cell_type": "code",
   "execution_count": null,
   "metadata": {},
   "outputs": [],
   "source": [
    "#Exercicio em Sala:\n",
    "\n",
    "vel = float(input(\"Qual a sua velocidade?\"))\n",
    "multa = (vel - 80) * 5\n",
    "\n",
    "if vel > 80:\n",
    "    print(f\"Voce foi multado no valor de {multa:.2f}\")\n",
    "else:\n",
    "    print(\"Velocidade dentro do limite permitido\")\n"
   ]
  },
  {
   "cell_type": "code",
   "execution_count": null,
   "metadata": {},
   "outputs": [],
   "source": [
    "\n",
    "dia_semana = str(input(\"Insira dia da semana\"))\n",
    "dia_mes = int(input(\"Insira dia do mes\"))\n",
    "\n",
    "if dia_semana != 'sabado' and dia_semana != 'domingo': \n",
    "    if dia_mes >1 and dia_mes <= 5: #Dá pra escrever assim tbm: 1 <= dia_mes <= 5, dá pra colocar essa condição como and na linha de cima \n",
    "        print(\"Dia de receber pagamento\")\n",
    "    else:\n",
    "        print(\"Voce nao recebera pagamento\")"
   ]
  },
  {
   "cell_type": "code",
   "execution_count": null,
   "metadata": {},
   "outputs": [],
   "source": [
    "# Comparações multiplas com operadores logicos\n",
    "\n",
    "formas = ['quadrado', 'retangulo', 'circulo']\n",
    "\n",
    "seleção = input(\"Insira qual forma geometrica entre quadrado, retangulo, circulo\").lower() #isso daqui serve pra ele considerar tanto caps quanto minusculo\n",
    "\n",
    "if seleção == 'quadrado':\n",
    "    lq = float(input(\"Insira o lado do quadrado\"))\n",
    "    print(\"A área do seu quadrado é:\", pow(lq,2))\n",
    "\n",
    "elif seleção == 'retangulo':\n",
    "    l1r = float(input(\"Insira a base do retangulo\"))\n",
    "    l2r = float(input(\"Insira a altura do retangulo\"))\n",
    "    print(\"A área do retangulo é:\", l1r * l2r)\n",
    "\n",
    "elif seleção == 'circulo':\n",
    "    raio = float(input(\"Insira o raio do circulo\"))\n",
    "    print(\"A área do circulo é:\", 3.14 * pow(raio,2))\n",
    "\n",
    "else:\n",
    "    print(\"Insira forma geometrica valida\")"
   ]
  },
  {
   "cell_type": "code",
   "execution_count": null,
   "metadata": {},
   "outputs": [],
   "source": [
    "# Operador IN\n",
    "letra = input(\"Digite letra\")\n",
    "palavra = input(\"Digite palavra\")\n",
    "\n",
    "if letra in palavra:\n",
    "    print(f\"A letra é '{letra}'\")\n",
    "else:\n",
    "    print(\"Esta letra nao esta na palavra\")\n"
   ]
  },
  {
   "cell_type": "code",
   "execution_count": null,
   "metadata": {},
   "outputs": [],
   "source": [
    "lista_carros = ['volks', 'audi', 'chev', 'fiat']\n",
    "\n",
    "carro_desejado = str(input(\"digite carro desejado\"))\n",
    "\n",
    "if carro_desejado in lista_carros:\n",
    "    print(f\"Seu carro é {carro_desejado}\")\n",
    "else:\n",
    "    print(\"Carro nao está na lista\")\n"
   ]
  },
  {
   "cell_type": "code",
   "execution_count": null,
   "metadata": {},
   "outputs": [],
   "source": [
    "lista_carros = ['volks', 'audi', 'chev', 'fiat']\n",
    "\n",
    "carro_desejado = str(input(\"digite carro desejado\"))\n",
    "\n",
    "if carro_desejado not in lista_carros:\n",
    "    print(f\"Este carro nao esta na lista {carro_desejado}\")\n",
    "else:\n",
    "    print(f\"{carro_desejado} está na lista \")\n",
    "\n",
    "\n",
    "# A diferença entre este e o de cima é o IF. Quem estiver no IF sera o foco, portanto podemos mudar o foco com not in ou in"
   ]
  },
  {
   "cell_type": "code",
   "execution_count": null,
   "metadata": {},
   "outputs": [],
   "source": [
    "primeiro_numero = int(input(\"Digite o primeiro numero\"))\n",
    "segundo_numero = int(input(\"Digite o segundo numero\"))\n",
    "\n",
    "if primeiro_numero >= 0 and primeiro_numero <= 10:\n",
    "    if 0 <= segundo_numero <= 10:\n",
    "        print(f\"O seu numero é {primeiro_numero * segundo_numero}\")\n",
    "    else:\n",
    "        print(\"Segundo numero incorreto\")\n",
    "elif (primeiro_numero < 0 or primeiro_numero > 10) and (segundo_numero < 0 or segundo_numero > 10):\n",
    "    print(\"Os dois numeros estão incorretos\")\n",
    "else:\n",
    "    print(\"Primeiro numero incorreto\")"
   ]
  },
  {
   "cell_type": "code",
   "execution_count": null,
   "metadata": {},
   "outputs": [],
   "source": [
    "idade = int(input(\"Insira sua idade\"))\n",
    "rg = str(input(\"Trouxe Rg?\"))\n",
    "\n",
    "if idade >= 16 and rg == 'sim':\n",
    "    print(\"Você pode votar\")\n",
    "elif idade >= 16 and rg == 'nao':\n",
    "    print(\"Poderá votar quando tiver RG\")\n",
    "else:\n",
    "    print('Não poderá votar')"
   ]
  },
  {
   "cell_type": "code",
   "execution_count": null,
   "metadata": {},
   "outputs": [],
   "source": [
    "#Usando FOR\n",
    "\n",
    "#É bom para utilizar em listas\n",
    "\n",
    "cobertura_requisitada = ['frango', 'peperoni', 'queijo']\n",
    "\n",
    "ingredientes = ['tomate', 'cebola', 'alface', 'queijo']\n",
    "\n",
    "for cobertura_requisitada in ingredientes:\n",
    "    print(f\"Adicione {cobertura_requisitada}\")\n"
   ]
  },
  {
   "cell_type": "code",
   "execution_count": null,
   "metadata": {},
   "outputs": [],
   "source": [
    "#Usando Continue - ele exclui o item da lista que vc colocou\n",
    "\n",
    "frutas = ['maça', 'banana', 'melancia']\n",
    "\n",
    "for fruta in frutas:\n",
    "    if(fruta == 'banana'):\n",
    "        continue\n",
    "    print(fruta)"
   ]
  },
  {
   "cell_type": "code",
   "execution_count": null,
   "metadata": {},
   "outputs": [],
   "source": [
    "#Usando Break - ele itentifica a banana e para antes dela \n",
    "\n",
    "frutas = ['maça', 'banana', 'melancia']\n",
    "\n",
    "for fruta in frutas:\n",
    "    if(fruta == 'banana'):\n",
    "        break\n",
    "    print(fruta)"
   ]
  },
  {
   "cell_type": "code",
   "execution_count": null,
   "metadata": {},
   "outputs": [],
   "source": [
    "# For dentro de For\n",
    "\n",
    "ordem = ['first', 'second','third','fourth']\n",
    "titulo = ['king', 'queen', 'princess', 'duke']\n",
    "\n"
   ]
  }
 ],
 "metadata": {
  "kernelspec": {
   "display_name": "Python 3",
   "language": "python",
   "name": "python3"
  },
  "language_info": {
   "codemirror_mode": {
    "name": "ipython",
    "version": 3
   },
   "file_extension": ".py",
   "mimetype": "text/x-python",
   "name": "python",
   "nbconvert_exporter": "python",
   "pygments_lexer": "ipython3",
   "version": "3.11.4"
  },
  "orig_nbformat": 4
 },
 "nbformat": 4,
 "nbformat_minor": 2
}

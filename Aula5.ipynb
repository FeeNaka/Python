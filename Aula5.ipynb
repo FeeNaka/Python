{
 "cells": [
  {
   "attachments": {},
   "cell_type": "markdown",
   "metadata": {},
   "source": [
    "#Operadores de Atribuição\n"
   ]
  },
  {
   "cell_type": "code",
   "execution_count": 1,
   "metadata": {},
   "outputs": [
    {
     "name": "stdout",
     "output_type": "stream",
     "text": [
      "O resultado será 1\n",
      "O resultado será 3\n",
      "O resultado será 6\n"
     ]
    }
   ],
   "source": [
    "#Atribuição +=\n",
    "\n",
    "soma = 0\n",
    "\n",
    "for numero in range(1, 4):\n",
    "    soma += numero\n",
    "    print(f\"O resultado será {soma}\")"
   ]
  },
  {
   "cell_type": "code",
   "execution_count": null,
   "metadata": {},
   "outputs": [],
   "source": [
    "#Explicando a função encima ^\n",
    "\n",
    "soma = 0 \n",
    "\n",
    "#Na primeira interação:\n",
    "\n",
    "soma = soma + numero\n",
    "soma = 0 + 1\n",
    "soma = 1\n",
    "\n",
    "\n",
    "#Na segunda interação:\n",
    "soma = soma + numero\n",
    "soma = 1 + 2\n",
    "soma = 3\n",
    "\n",
    "#Na terceira interação:\n",
    "soma = soma + numero\n",
    "soma = 3 + 3\n",
    "soma = 6"
   ]
  },
  {
   "cell_type": "code",
   "execution_count": 2,
   "metadata": {},
   "outputs": [
    {
     "name": "stdout",
     "output_type": "stream",
     "text": [
      "O resultado será -1\n",
      "O resultado será -3\n",
      "O resultado será -6\n"
     ]
    }
   ],
   "source": [
    "#Atribuição -=\n",
    "\n",
    "sub = 0\n",
    "for numero in range(1, 4):\n",
    "    sub -= numero\n",
    "    print(f\"O resultado será {sub}\")"
   ]
  },
  {
   "cell_type": "code",
   "execution_count": null,
   "metadata": {},
   "outputs": [],
   "source": [
    "#Explicando a função encima ^\n",
    "\n",
    "sub = 0 \n",
    "\n",
    "#Na primeira interação:\n",
    "\n",
    "sub = sub - numero\n",
    "sub = 0 - 1\n",
    "sub = -1\n",
    "\n",
    "\n",
    "#Na segunda interação:\n",
    "sub = sub - numero\n",
    "sub = -1 - 2\n",
    "sub = -3\n",
    "\n",
    "#Na terceira interação:\n",
    "sub = sub - numero\n",
    "sub = -3 - 3\n",
    "sub = -6"
   ]
  },
  {
   "cell_type": "code",
   "execution_count": 3,
   "metadata": {},
   "outputs": [
    {
     "name": "stdout",
     "output_type": "stream",
     "text": [
      "O resultado sera 1\n",
      "O resultado sera 2\n",
      "O resultado sera 6\n"
     ]
    }
   ],
   "source": [
    "#Atribuição *=\n",
    "\n",
    "mult = 1\n",
    "for numero in range(1,4):\n",
    "    mult *= numero \n",
    "    print(f\"O resultado sera {mult}\")"
   ]
  },
  {
   "cell_type": "code",
   "execution_count": null,
   "metadata": {},
   "outputs": [],
   "source": [
    "#Explicando a função encima ^\n",
    "\n",
    "mult = 1 \n",
    "\n",
    "#Na primeira interação:\n",
    "\n",
    "mult = mult * numero\n",
    "mult = 1 * 1\n",
    "mult = 1\n",
    "\n",
    "\n",
    "#Na segunda interação:\n",
    "mult = mult * numero\n",
    "mult = 1 * 2\n",
    "mult = 2\n",
    "\n",
    "#Na terceira interação:\n",
    "mult = mult * numero\n",
    "mult = 2 * 3\n",
    "mult = 6"
   ]
  },
  {
   "cell_type": "code",
   "execution_count": null,
   "metadata": {},
   "outputs": [],
   "source": [
    "# Divisão é a mesma coisa, /=, só fiquei com preguiça de copiar tudo de novo"
   ]
  },
  {
   "cell_type": "code",
   "execution_count": null,
   "metadata": {},
   "outputs": [],
   "source": [
    "#Ele vai criar uma variavel x, vai pegar cada valor da lista e dividir ele por 2, o % te mostra o resto da divisão.\n",
    "\n",
    "lista = [1,2,3,4,5,6,7,8,9,10]\n",
    "\n",
    "for x in lista:\n",
    "    if x %2 == 0: \n",
    "        print(f\"Estes valores são pares {x}\")\n",
    "\n",
    "#Nesse caso, ele divide 1 por 2, como sobrou resto, ele nao satisfaz a condição do print, \n",
    "#portanto nao printa o 1, como 2,4,6,8 e 10 dividos por 2, tem resto igual a zero, ele satisfaz a condição portanto é printado"
   ]
  },
  {
   "cell_type": "code",
   "execution_count": 4,
   "metadata": {},
   "outputs": [
    {
     "name": "stdout",
     "output_type": "stream",
     "text": [
      "1\n",
      "3\n",
      "6\n",
      "10\n",
      "15\n",
      "21\n",
      "28\n",
      "36\n",
      "45\n",
      "55\n",
      "66\n",
      "78\n",
      "91\n",
      "105\n",
      "120\n",
      "136\n",
      "153\n",
      "171\n",
      "190\n",
      "210\n",
      "231\n",
      "253\n",
      "276\n",
      "300\n",
      "325\n",
      "351\n",
      "378\n",
      "406\n",
      "435\n",
      "465\n",
      "496\n",
      "528\n",
      "561\n",
      "595\n",
      "630\n",
      "666\n",
      "703\n",
      "741\n",
      "780\n",
      "820\n",
      "861\n",
      "903\n",
      "946\n",
      "990\n",
      "1035\n",
      "1081\n",
      "1128\n",
      "1176\n",
      "1225\n",
      "1275\n",
      "1326\n",
      "1378\n",
      "1431\n",
      "1485\n",
      "1540\n",
      "1596\n",
      "1653\n",
      "1711\n",
      "1770\n",
      "1830\n",
      "1891\n",
      "1953\n",
      "2016\n",
      "2080\n",
      "2145\n",
      "2211\n",
      "2278\n",
      "2346\n",
      "2415\n",
      "2485\n",
      "2556\n",
      "2628\n",
      "2701\n",
      "2775\n",
      "2850\n",
      "2926\n",
      "3003\n",
      "3081\n",
      "3160\n",
      "3240\n",
      "3321\n",
      "3403\n",
      "3486\n",
      "3570\n",
      "3655\n",
      "3741\n",
      "3828\n",
      "3916\n",
      "4005\n",
      "4095\n",
      "4186\n",
      "4278\n",
      "4371\n",
      "4465\n",
      "4560\n",
      "4656\n",
      "4753\n",
      "4851\n",
      "4950\n"
     ]
    }
   ],
   "source": [
    "# Exercicio 1: Calcule a soma dos numeros de 1 a 100\n",
    "\n",
    "soma = 0\n",
    "\n",
    "for n in range(1, 100):\n",
    "    soma += n\n",
    "    print(soma)"
   ]
  },
  {
   "cell_type": "code",
   "execution_count": 5,
   "metadata": {},
   "outputs": [
    {
     "name": "stdout",
     "output_type": "stream",
     "text": [
      "A soma dos pares é: 600\n"
     ]
    }
   ],
   "source": [
    "# Exercicio 2: \n",
    "\n",
    "somaP = 0 \n",
    "\n",
    "for x in range(1,50):\n",
    "    if x %2 == 0:\n",
    "        somaP += x      \n",
    "print(f\"A soma dos pares é: {somaP}\")\n"
   ]
  },
  {
   "cell_type": "code",
   "execution_count": 6,
   "metadata": {},
   "outputs": [
    {
     "name": "stdout",
     "output_type": "stream",
     "text": [
      "Lista de valores impares: [1, 3, 5, 7, 9, 11, 13, 15, 17, 19, 21, 23, 25, 27, 29, 31, 33, 35, 37, 39, 41, 43, 45, 47, 49]\n",
      "A media sera 25.0\n"
     ]
    }
   ],
   "source": [
    "# Exercicio 3:\n",
    "\n",
    "listaI = []\n",
    "\n",
    "somaI = 0 \n",
    "\n",
    "for x in range(1, 51):\n",
    "    if x %2 != 0:\n",
    "        somaI += x\n",
    "        listaI.append(x)\n",
    "print(f\"Lista de valores impares: {listaI}\")\n",
    "\n",
    "media = somaI / len(listaI)\n",
    "print(f\"A media sera {media}\")\n",
    "\n"
   ]
  }
 ],
 "metadata": {
  "kernelspec": {
   "display_name": "Python 3",
   "language": "python",
   "name": "python3"
  },
  "language_info": {
   "codemirror_mode": {
    "name": "ipython",
    "version": 3
   },
   "file_extension": ".py",
   "mimetype": "text/x-python",
   "name": "python",
   "nbconvert_exporter": "python",
   "pygments_lexer": "ipython3",
   "version": "3.11.4"
  },
  "orig_nbformat": 4
 },
 "nbformat": 4,
 "nbformat_minor": 2
}

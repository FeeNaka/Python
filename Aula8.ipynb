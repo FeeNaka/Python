{
 "cells": [
  {
   "attachments": {},
   "cell_type": "markdown",
   "metadata": {},
   "source": [
    "Depuração\n"
   ]
  },
  {
   "cell_type": "code",
   "execution_count": null,
   "metadata": {},
   "outputs": [],
   "source": [
    "# Exemplo 1\n",
    "\n",
    "nomes = ['mark', 'john', 'joao', 'maria', 'carlos', 'ana']\n",
    "\n",
    "for nome in nomes:\n",
    "    print(nome.upper())"
   ]
  },
  {
   "cell_type": "code",
   "execution_count": null,
   "metadata": {},
   "outputs": [],
   "source": [
    "# Exemplo 2\n",
    "\n",
    "for i in range(1,6):\n",
    "    print(i**2)"
   ]
  },
  {
   "cell_type": "code",
   "execution_count": null,
   "metadata": {},
   "outputs": [],
   "source": [
    "# Exemplo 3\n",
    "\n",
    "soma = 0\n",
    "\n",
    "for i in range(1,6):\n",
    "    soma+= i \n",
    "\n",
    "print(f\"A soma dos numeros inteiros é: {soma}\")"
   ]
  },
  {
   "cell_type": "code",
   "execution_count": null,
   "metadata": {},
   "outputs": [],
   "source": [
    "# Exemplo 4\n",
    "\n",
    "lista_original = [1,2,3,4,5]\n",
    "nova_lista = []\n",
    "\n",
    "for elemento in lista_original:\n",
    "    nova_lista.append(elemento * 2)\n",
    "    print(f\"Lista Original: {lista_original}\")\n",
    "    print(f\"Nova Lista: {nova_lista}\")"
   ]
  },
  {
   "cell_type": "code",
   "execution_count": null,
   "metadata": {},
   "outputs": [],
   "source": [
    "# Exercicio 10\n",
    "\n",
    "# Crie uma terceira lista com a soma dos elementos correspondentes de duas listas:\n",
    "\n",
    "lista1 = [1,2,3,4]\n",
    "lista2 = [5,6,7,8]\n",
    "soma_elementos = []\n",
    "\n",
    "for i in range(len(lista1)):\n",
    "    soma_elementos.append(lista1[i] + lista2[i])\n",
    "\n",
    "print(f\"A terceira lista é: {soma_elementos}\")"
   ]
  },
  {
   "attachments": {},
   "cell_type": "markdown",
   "metadata": {},
   "source": [
    "Dataframe"
   ]
  },
  {
   "cell_type": "code",
   "execution_count": null,
   "metadata": {},
   "outputs": [],
   "source": [
    "import pandas as pd"
   ]
  },
  {
   "cell_type": "code",
   "execution_count": null,
   "metadata": {},
   "outputs": [],
   "source": [
    "data = {'indice': [0,1,2,3,4],\n",
    "        'numero1': [1,2,3,4,5],\n",
    "        'numero2': [4,3,5,1,9],\n",
    "        'texto1': ['x', 'y', 'z', 'y', 'w']\n",
    "}\n",
    "\n",
    "df = pd.DataFrame(data)"
   ]
  },
  {
   "cell_type": "code",
   "execution_count": null,
   "metadata": {},
   "outputs": [],
   "source": [
    "df"
   ]
  },
  {
   "cell_type": "code",
   "execution_count": null,
   "metadata": {},
   "outputs": [],
   "source": [
    "# Plote de um Grafico\n",
    "\n",
    "import matplotlib.pyplot as plt\n",
    "\n"
   ]
  },
  {
   "cell_type": "code",
   "execution_count": null,
   "metadata": {},
   "outputs": [],
   "source": [
    "pip install matplotlib"
   ]
  },
  {
   "cell_type": "code",
   "execution_count": null,
   "metadata": {},
   "outputs": [],
   "source": [
    "# Definição de x e \n",
    "\n",
    "x = df['indice']\n",
    "y1 = df['numero1']\n",
    "y2 = df['numero2']\n",
    "\n",
    "plt.plot(x,y1, x, y2)\n",
    "plt.xlabel('Eixo X')\n",
    "plt.ylabel('Eixo Y')\n",
    "plt.title('Y em função de X')\n",
    "plt.grid()\n",
    "plt.legend(['var1', 'var2'])\n",
    "plt.show()"
   ]
  },
  {
   "cell_type": "code",
   "execution_count": null,
   "metadata": {},
   "outputs": [],
   "source": [
    "# Calcular a média\n",
    "\n",
    "df['media'] = (df['numero1'] + df['numero2']) / 2 \n",
    "df"
   ]
  },
  {
   "cell_type": "code",
   "execution_count": null,
   "metadata": {},
   "outputs": [],
   "source": [
    "df['soma'] = 0\n",
    "\n",
    "for index, row in df.iterrows():\n",
    "    df.at [index, 'soma'] = row ['numero1'] + row ['numero2']\n",
    "df"
   ]
  },
  {
   "cell_type": "code",
   "execution_count": null,
   "metadata": {},
   "outputs": [],
   "source": [
    "df.to_csv('novo_exemplo.csv')"
   ]
  },
  {
   "cell_type": "code",
   "execution_count": null,
   "metadata": {},
   "outputs": [],
   "source": [
    "new_data = pd.read_csv('novo_exemplo.csv')\n",
    "new_data"
   ]
  }
 ],
 "metadata": {
  "kernelspec": {
   "display_name": "Python 3",
   "language": "python",
   "name": "python3"
  },
  "language_info": {
   "codemirror_mode": {
    "name": "ipython",
    "version": 3
   },
   "file_extension": ".py",
   "mimetype": "text/x-python",
   "name": "python",
   "nbconvert_exporter": "python",
   "pygments_lexer": "ipython3",
   "version": "3.11.4"
  },
  "orig_nbformat": 4
 },
 "nbformat": 4,
 "nbformat_minor": 2
}

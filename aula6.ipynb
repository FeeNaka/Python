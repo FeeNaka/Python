{
 "cells": [
  {
   "cell_type": "code",
   "execution_count": null,
   "metadata": {},
   "outputs": [],
   "source": [
    "fim = int(input(\"Digite o ultimo numero a imprimir\"))\n",
    "x = 1\n",
    "\n",
    "while x <= fim:\n",
    "    x= x + 1\n",
    "print(x)"
   ]
  },
  {
   "cell_type": "code",
   "execution_count": null,
   "metadata": {},
   "outputs": [],
   "source": [
    "fim = int(input(\"Digite o ultimo numero a imprimir\"))\n",
    "x = 1\n",
    "\n",
    "while x <= fim:\n",
    "    x +=1 \n",
    "print(x)"
   ]
  },
  {
   "cell_type": "code",
   "execution_count": null,
   "metadata": {},
   "outputs": [],
   "source": [
    "i = 1\n",
    "\n",
    "while i<= 10:\n",
    "    print(i)\n",
    "    i += 1"
   ]
  },
  {
   "cell_type": "code",
   "execution_count": null,
   "metadata": {},
   "outputs": [],
   "source": [
    "lista1 = [10, 20, 30, 40, 50]\n",
    "\n",
    "nova_lista = reversed(lista1)   \n",
    "\n",
    "for x in nova_lista:\n",
    "    print(x)\n"
   ]
  },
  {
   "cell_type": "code",
   "execution_count": null,
   "metadata": {},
   "outputs": [],
   "source": [
    "minha_lista = [10, 20, 30, 40, 50, 60, 70, 80, 90, 100]\n",
    "#               0   1   2   3   4   5   6   7   8   9\n",
    "\n",
    "# Aqui ele vai percorrer toda a lista, vai partir da primeira posição da lista e pula 2 posições. \"::\" Fatia a lista\n",
    "for y in minha_lista[0::2]:\n",
    "    print(y, end= \" \")"
   ]
  },
  {
   "cell_type": "code",
   "execution_count": null,
   "metadata": {},
   "outputs": [],
   "source": [
    "minha_lista = []\n",
    "\n",
    "i = 0\n",
    "while len(minha_lista) < 10:\n",
    "    minha_lista.append(i) #nesse caso o append cria uma nova lista do que ta dentro de i, de tal forma que ele incrementa mais 1 no valor inicial de i\n",
    "    i += 1\n",
    "print(minha_lista)"
   ]
  },
  {
   "cell_type": "code",
   "execution_count": null,
   "metadata": {},
   "outputs": [],
   "source": [
    "minha_lista = [23, 45, 12, 10, 25]\n",
    "\n",
    "i = 0 \n",
    "soma = 0\n",
    "\n",
    "while i < len(minha_lista):\n",
    "    soma += minha_lista[i]\n",
    "    i += 1  # isso daqui fala pra ele ir de posição em posição dentro da lista, entao ele soma o 23 e depois soma o 45 etc..\n",
    "print(soma)"
   ]
  },
  {
   "cell_type": "code",
   "execution_count": null,
   "metadata": {},
   "outputs": [],
   "source": [
    "# Criar uma tabuada\n",
    "\n",
    "a = 5\n",
    "b = 1\n",
    "\n",
    "while b <= 9:\n",
    "    print(\"%d * %d = %d\" %(a,b,a*b))\n",
    "    b += 1"
   ]
  },
  {
   "attachments": {},
   "cell_type": "markdown",
   "metadata": {},
   "source": [
    "# Crie um algoritmo para gerar uma tabuada personalizada, na qual o usuario insira um numero e um muliplo para gerar a tabuada."
   ]
  },
  {
   "cell_type": "code",
   "execution_count": null,
   "metadata": {},
   "outputs": [],
   "source": [
    "a = float(input(\"Insira o numero da tabuada desejada\"))\n",
    "\n",
    "limite = float(input(\"Até qual numero voce quer sua tabuada?\"))\n",
    "\n",
    "b = 0 \n",
    "\n",
    "while b <= limite:\n",
    "    print(\"%d * %d = %d\" %(a,b,a*b))\n",
    "    b += 1"
   ]
  },
  {
   "cell_type": "code",
   "execution_count": null,
   "metadata": {},
   "outputs": [],
   "source": [
    "a = float(input(\"Insira o numero da tabuada desejada\"))\n",
    "\n",
    "limite = float(input(\"Até qual numero voce quer sua tabuada?\"))\n",
    "\n",
    "b = 0 \n",
    "\n",
    "while b <= 9:\n",
    "    print(\"%d * %d = %d\" %(a,b,a*b))\n",
    "    b += 1\n",
    "    if b > limite:\n",
    "        break"
   ]
  },
  {
   "cell_type": "code",
   "execution_count": null,
   "metadata": {},
   "outputs": [],
   "source": [
    "palavra = \"engenharia de software\"\n",
    "\n",
    "i = 0 \n",
    "\n",
    "while i < len(palavra):\n",
    "    if palavra[i] == 'g':\n",
    "        i += 1\n",
    "        continue \n",
    "    print(\"As letras são\", palavra[i])\n",
    "    i += 1\n"
   ]
  },
  {
   "attachments": {},
   "cell_type": "markdown",
   "metadata": {},
   "source": [
    "# Criar um programa para corrigir um teste de multipla escolha com tres questoes. A resposta da primeira questão é B, da segunda é A, da terceira é D. Para cada acerto trazer a pontuação"
   ]
  },
  {
   "cell_type": "code",
   "execution_count": null,
   "metadata": {},
   "outputs": [],
   "source": [
    "respostas_certas = [\"b\", \"a\", \"d\"]\n",
    "\n",
    "nota = 0\n",
    "\n",
    "questao_atual = 0\n",
    "\n",
    "while questao_atual < 3:\n",
    "    resposta = input(\"Resposta da questão:\")\n",
    "    if resposta == respostas_certas[questao_atual]: # a parte entre [] denota o ponto de partida da resposta certa\n",
    "        nota += 1\n",
    "    print(f\"A pontuação será: {nota}\")\n",
    "    questao_atual += 1\n"
   ]
  },
  {
   "cell_type": "code",
   "execution_count": 1,
   "metadata": {},
   "outputs": [],
   "source": [
    "tipos_instalacao = [\"Residencial\", \"Comercial\", \"Industrial\"]\n",
    "\n",
    "instalacao = 0\n",
    " \n",
    "while instalacao < 3:\n",
    "    tipo = input(\"Qual o tipo de instalação: Residencial, Comercial ou Industrial?\")\n",
    "    if tipo == tipos_instalacao[instalacao]:\n",
    "        consumo = float(input(\"Qual a quantidade consumida em kWh?\"))\n",
    "        if consumo > 500:\n",
    "            print(f\"O preço a ser pago é de {consumo * 0.75} \")\n",
    "        else:\n",
    "            print(f\"O preço a ser pago é de {consumo * 0.5}\")\n",
    "        break\n",
    "\n",
    "    elif:\n",
    "        instalacao += 1\n",
    "        tipo = input(\"Qual o tipo de instalação: Comercial ou Industrial?\")\n",
    "        if tipo == tipos_instalacao[instalacao]:\n",
    "          consumo = float(input(\"Qual a quantidade consumida em kWh?\"))\n",
    "          if consumo > 500:\n",
    "            print(f\"O preço a ser pago é de {consumo * 0.75} \")\n",
    "          else:\n",
    "            print(f\"O preço a ser pago é de {consumo * 0.5}\")\n",
    "          break\n",
    "    \n",
    "    else: \n",
    "        instalacao += 2\n",
    "        tipo = input(\"Qual o tipo de instalação: Industrial?\")\n",
    "        if tipo == tipos_instalacao[instalacao]:\n",
    "          consumo = float(input(\"Qual a quantidade consumida em kWh?\"))\n",
    "          if consumo > 500:\n",
    "            print(f\"O preço a ser pago é de {consumo * 0.75} \")\n",
    "          else:\n",
    "            print(f\"O preço a ser pago é de {consumo * 0.5}\")\n",
    "          break\n",
    "\n"
   ]
  }
 ],
 "metadata": {
  "kernelspec": {
   "display_name": "Python 3",
   "language": "python",
   "name": "python3"
  },
  "language_info": {
   "codemirror_mode": {
    "name": "ipython",
    "version": 3
   },
   "file_extension": ".py",
   "mimetype": "text/x-python",
   "name": "python",
   "nbconvert_exporter": "python",
   "pygments_lexer": "ipython3",
   "version": "3.11.4"
  },
  "orig_nbformat": 4
 },
 "nbformat": 4,
 "nbformat_minor": 2
}

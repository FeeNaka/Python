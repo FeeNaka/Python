{
 "cells": [
  {
   "cell_type": "code",
   "execution_count": 16,
   "metadata": {},
   "outputs": [
    {
     "name": "stdout",
     "output_type": "stream",
     "text": [
      "1\n",
      "2\n",
      "3\n",
      "4\n",
      "5\n",
      "6\n",
      "7\n",
      "8\n",
      "9\n",
      "2\n",
      "4\n",
      "6\n",
      "8\n",
      "10\n",
      "12\n",
      "14\n",
      "16\n",
      "18\n",
      "3\n",
      "6\n",
      "9\n",
      "12\n",
      "15\n",
      "18\n",
      "21\n",
      "24\n",
      "27\n",
      "4\n",
      "8\n",
      "12\n",
      "16\n",
      "20\n",
      "24\n",
      "28\n",
      "32\n",
      "36\n",
      "5\n",
      "10\n",
      "15\n",
      "20\n",
      "25\n",
      "30\n",
      "35\n",
      "40\n",
      "45\n",
      "6\n",
      "12\n",
      "18\n",
      "24\n",
      "30\n",
      "36\n",
      "42\n",
      "48\n",
      "54\n",
      "7\n",
      "14\n",
      "21\n",
      "28\n",
      "35\n",
      "42\n",
      "49\n",
      "56\n",
      "63\n",
      "8\n",
      "16\n",
      "24\n",
      "32\n",
      "40\n",
      "48\n",
      "56\n",
      "64\n",
      "72\n",
      "9\n",
      "18\n",
      "27\n",
      "36\n",
      "45\n",
      "54\n",
      "63\n",
      "72\n",
      "81\n"
     ]
    }
   ],
   "source": [
    "for x in range(1,10):\n",
    "    for y in range(1,10):\n",
    "        print(x*y)"
   ]
  },
  {
   "cell_type": "code",
   "execution_count": 15,
   "metadata": {},
   "outputs": [
    {
     "name": "stdout",
     "output_type": "stream",
     "text": [
      "2\n",
      "3\n",
      "6\n"
     ]
    }
   ],
   "source": [
    "for i in range(2,4):\n",
    "    for j in range(1,11):\n",
    "        if i == j:\n",
    "            break\n",
    "        print(i*j)\n",
    "\n",
    "# Aqui ele fez 2x1, tenta fazer 2x2 mas para por causa da condição e do break. Sò printa o 2x1\n",
    "# Depois ele faz 3x1, 3x2 e tenta fazer 3x3 mas para por causa da condição, printando só 3x1 e 3x2"
   ]
  },
  {
   "cell_type": "code",
   "execution_count": 3,
   "metadata": {},
   "outputs": [
    {
     "data": {
      "text/plain": [
       "10"
      ]
     },
     "execution_count": 3,
     "metadata": {},
     "output_type": "execute_result"
    }
   ],
   "source": [
    "numeros = [10,11,15,18,20]\n",
    "\n",
    "min = min(numeros)\n",
    "min"
   ]
  },
  {
   "cell_type": "code",
   "execution_count": 4,
   "metadata": {},
   "outputs": [
    {
     "data": {
      "text/plain": [
       "20"
      ]
     },
     "execution_count": 4,
     "metadata": {},
     "output_type": "execute_result"
    }
   ],
   "source": [
    "max = max(numeros)\n",
    "max"
   ]
  },
  {
   "cell_type": "code",
   "execution_count": 7,
   "metadata": {},
   "outputs": [
    {
     "name": "stdout",
     "output_type": "stream",
     "text": [
      "O valor da média será 14.8\n",
      "o valor da mediana será 15\n"
     ]
    }
   ],
   "source": [
    "from statistics import mean, median\n",
    "\n",
    "numeros = [10, 11, 15, 18, 20]\n",
    "\n",
    "media = mean(numeros)\n",
    "median = median(numeros)\n",
    "\n",
    "print(f'O valor da média será {media}')\n",
    "print(f'o valor da mediana será {median}')\n"
   ]
  },
  {
   "cell_type": "code",
   "execution_count": 14,
   "metadata": {},
   "outputs": [
    {
     "data": {
      "text/plain": [
       "range(1, 10)"
      ]
     },
     "execution_count": 14,
     "metadata": {},
     "output_type": "execute_result"
    }
   ],
   "source": [
    "len(numeros) # Vai contar quantos elementos tem dentro de numeros\n",
    "\n",
    "range(1,10) #Vai mostrar os numeros de 1 a 9"
   ]
  },
  {
   "cell_type": "code",
   "execution_count": 9,
   "metadata": {},
   "outputs": [
    {
     "name": "stdout",
     "output_type": "stream",
     "text": [
      "1\n",
      "3\n",
      "5\n"
     ]
    }
   ],
   "source": [
    "for i in range(1,6,2):\n",
    "    print(i)"
   ]
  },
  {
   "cell_type": "code",
   "execution_count": 17,
   "metadata": {},
   "outputs": [
    {
     "name": "stdout",
     "output_type": "stream",
     "text": [
      "74\n"
     ]
    }
   ],
   "source": [
    "numeros = [10, 11, 15, 18, 20]\n",
    "\n",
    "soma = sum(numeros)\n",
    "print(soma)"
   ]
  },
  {
   "cell_type": "code",
   "execution_count": 10,
   "metadata": {},
   "outputs": [
    {
     "data": {
      "text/plain": [
       "30"
      ]
     },
     "execution_count": 10,
     "metadata": {},
     "output_type": "execute_result"
    }
   ],
   "source": [
    "numeros[0] + numeros [4] # soma do primeiro elemento da lista com o 5o elemento da lista"
   ]
  },
  {
   "cell_type": "code",
   "execution_count": 12,
   "metadata": {},
   "outputs": [
    {
     "name": "stdout",
     "output_type": "stream",
     "text": [
      "-54\n"
     ]
    }
   ],
   "source": [
    "from functools import reduce\n",
    "from operator import sub, add\n",
    "\n",
    "numeros = [10, 11, 15, 18, 20]\n",
    "\n",
    "resultado = reduce(sub, numeros) # Ele vai pegar cada elemento da lista, e subtrair um do outro, primeiro 10-11\n",
    "# depois a lista fica com 4 elementos, -1, 11, 15, 18,20\n",
    "# ai ele faz -1-11, ai a lista fica com 3 elementos: -12, 15, 18, 20\n",
    "# E assim vai\n",
    "print(resultado)"
   ]
  },
  {
   "cell_type": "code",
   "execution_count": 13,
   "metadata": {},
   "outputs": [
    {
     "name": "stdout",
     "output_type": "stream",
     "text": [
      "a1\n",
      "a2\n",
      "a3\n",
      "b1\n",
      "b2\n",
      "b3\n",
      "c1\n",
      "c2\n",
      "c3\n"
     ]
    }
   ],
   "source": [
    "for letra in 'abc':\n",
    "    for numero in '123':\n",
    "        print(letra+numero)"
   ]
  },
  {
   "cell_type": "code",
   "execution_count": 19,
   "metadata": {},
   "outputs": [
    {
     "name": "stdout",
     "output_type": "stream",
     "text": [
      "1\n",
      "4\n",
      "8\n"
     ]
    }
   ],
   "source": [
    "soma = 0 \n",
    "\n",
    "for x in [1, 2, 3, 4]:\n",
    "    if x == 2:\n",
    "        continue\n",
    "    soma += x\n",
    "    print(soma)\n",
    "\n",
    "# aqui ele faria 1+2+3+4 se a condição nao existisse.\n",
    "# nesse caso ele ignora o 2 e soma o resto"
   ]
  },
  {
   "cell_type": "code",
   "execution_count": 21,
   "metadata": {},
   "outputs": [
    {
     "name": "stdout",
     "output_type": "stream",
     "text": [
      "A nota do A é 2.25\n",
      "A nota do B é 1.6\n",
      "A nota do C é 1.3\n",
      "A nota do D é 2.6999999999999997\n"
     ]
    }
   ],
   "source": [
    "notas = [7.5, 8, 6.5, 9]\n",
    "peso = [0.3, 0.2, 0.2, 0.3]\n",
    "aluno = [\"A\", \"B\", \"C\", \"D\"]\n",
    "\n",
    "for notas, peso, aluno in zip(notas, peso, aluno):\n",
    "    print(f\"A nota do {aluno} é {notas * peso}\")"
   ]
  },
  {
   "cell_type": "code",
   "execution_count": 6,
   "metadata": {},
   "outputs": [
    {
     "name": "stdout",
     "output_type": "stream",
     "text": [
      "{'A': 2.25, 'B': 1.6, 'C': 1.3, 'D': 2.6999999999999997}\n"
     ]
    }
   ],
   "source": [
    "notas = [7.5, 8, 6.5, 9]\n",
    "peso = [0.3, 0.2, 0.2, 0.3]\n",
    "aluno = [\"A\", \"B\", \"C\", \"D\"]\n",
    "\n",
    "lista3= []  #lista vazia\n",
    "\n",
    "for i in range(len(notas)):\n",
    "    resultado = notas[i] * peso[i]\n",
    "    lista3.append(resultado) # estou adicionando o resultado na lista 3\n",
    "    \n",
    "\n",
    "resultado_final = {} #dicionario -> permite atribuir um valor a um string, no caso, aluno A tera a nota tal, B a nota tal, em uma coisa só\n",
    "\n",
    "for i in range(len(aluno)):\n",
    "    resultado_final[aluno[i]] = lista3[i]\n",
    "print(resultado_final)"
   ]
  },
  {
   "cell_type": "code",
   "execution_count": 9,
   "metadata": {},
   "outputs": [
    {
     "name": "stdout",
     "output_type": "stream",
     "text": [
      "['a', 'b', 'c', 'd', 'e']\n",
      "['1', '2', '3', '4', '5']\n",
      "['a', 'b', 'c', 'd', 'e', '1', '2', '3', '4', '5']\n"
     ]
    }
   ],
   "source": [
    "# Crie um algoritmo para gerar senhas aleatorias para o usuario.\n",
    "# O usuario deve escolheras letras, os numeros e a senha deverá ser gerada de forma aleaoria.\n",
    "\n",
    "letra = str(input(\"Escolha as letras que serão usadas na senha, separadas por espaço\"))\n",
    "\n",
    "numero = str(input(\"Escolha os numeros que serão usadas na senha, separadas por espaço\"))\n",
    "\n",
    "letraLista  = letra.split()\n",
    "print(letraLista)\n",
    "\n",
    "numeroLista = numero.split()\n",
    "print(numeroLista)\n",
    "\n",
    "listaT = letraLista + numeroLista\n",
    "\n",
    "print(listaT)"
   ]
  }
 ],
 "metadata": {
  "kernelspec": {
   "display_name": "Python 3",
   "language": "python",
   "name": "python3"
  },
  "language_info": {
   "codemirror_mode": {
    "name": "ipython",
    "version": 3
   },
   "file_extension": ".py",
   "mimetype": "text/x-python",
   "name": "python",
   "nbconvert_exporter": "python",
   "pygments_lexer": "ipython3",
   "version": "3.11.4"
  },
  "orig_nbformat": 4
 },
 "nbformat": 4,
 "nbformat_minor": 2
}
